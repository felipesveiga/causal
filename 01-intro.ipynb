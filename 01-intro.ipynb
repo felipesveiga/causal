{
 "cells": [
  {
   "cell_type": "markdown",
   "id": "83b9f2e5-216a-4ad2-b9ae-e913021565d5",
   "metadata": {},
   "source": [
    "<h1 style='font-size:40px'> \n",
    "    Causality, Association & RCT's\n",
    "</h1>\n",
    "<div> \n",
    "    <ul style='font-size:20px'> \n",
    "        <li> \n",
    "            A Inferência Causal é um ramo da Estatística voltado à identificação da causa de um determinado fenômeno.\n",
    "        </li>\n",
    "    </ul>\n",
    " </div>"
   ]
  },
  {
   "cell_type": "code",
   "execution_count": 1,
   "id": "ea4c3834-cf2d-4276-b90c-49757d44d652",
   "metadata": {},
   "outputs": [
    {
     "name": "stdout",
     "output_type": "stream",
     "text": [
      "[master 44ed8d6] Pesquisar definição de Inferência Causal\n",
      " 2 files changed, 196 insertions(+)\n",
      " create mode 100644 .ipynb_checkpoints/01-intro-checkpoint.ipynb\n",
      " create mode 100644 01-intro.ipynb\n"
     ]
    },
    {
     "name": "stderr",
     "output_type": "stream",
     "text": [
      "failed to send, dropping 1 traces to intake at http://localhost:8126/v0.5/traces after 3 retries\n"
     ]
    },
    {
     "name": "stdout",
     "output_type": "stream",
     "text": [
      "Enumerating objects: 5, done.\n",
      "Counting objects: 100% (5/5), done.\n",
      "Delta compression using up to 24 threads\n",
      "Compressing objects: 100% (4/4), done.\n",
      "Writing objects: 100% (4/4), 1.40 KiB | 1.40 MiB/s, done.\n",
      "Total 4 (delta 0), reused 0 (delta 0), pack-reused 0\n",
      "To https://github.com/felipesveiga/causal.git\n",
      "   9086ada..44ed8d6  master -> master\n"
     ]
    }
   ],
   "source": [
    "! git add .\n",
    "! git commit -am 'Continuar de \"Key Terms\"'\n",
    "! git push"
   ]
  },
  {
   "cell_type": "markdown",
   "id": "e4805d58-0286-4149-9339-1ae57ce3a868",
   "metadata": {
    "editable": true,
    "slideshow": {
     "slide_type": ""
    },
    "tags": []
   },
   "source": [
    "<p style='color:red'> Iniciei artigo do \"The Decision Lab\"; Continuar de \"Key Terms\"; Aula 4"
   ]
  }
 ],
 "metadata": {
  "kernelspec": {
   "display_name": "Python 3 (ipykernel)",
   "language": "python",
   "name": "python3"
  },
  "language_info": {
   "codemirror_mode": {
    "name": "ipython",
    "version": 3
   },
   "file_extension": ".py",
   "mimetype": "text/x-python",
   "name": "python",
   "nbconvert_exporter": "python",
   "pygments_lexer": "ipython3",
   "version": "3.10.12"
  }
 },
 "nbformat": 4,
 "nbformat_minor": 5
}
